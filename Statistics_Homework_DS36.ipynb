{
 "cells": [
  {
   "cell_type": "code",
   "execution_count": 2,
   "id": "ddc927b3",
   "metadata": {},
   "outputs": [],
   "source": [
    "import numpy as np\n",
    "import pandas as pd\n",
    "import matplotlib.pyplot as pt\n",
    "import seaborn as sns\n",
    "import scipy.stats as st"
   ]
  },
  {
   "cell_type": "code",
   "execution_count": 3,
   "id": "e663930b",
   "metadata": {},
   "outputs": [
    {
     "data": {
      "text/html": [
       "<div>\n",
       "<style scoped>\n",
       "    .dataframe tbody tr th:only-of-type {\n",
       "        vertical-align: middle;\n",
       "    }\n",
       "\n",
       "    .dataframe tbody tr th {\n",
       "        vertical-align: top;\n",
       "    }\n",
       "\n",
       "    .dataframe thead th {\n",
       "        text-align: right;\n",
       "    }\n",
       "</style>\n",
       "<table border=\"1\" class=\"dataframe\">\n",
       "  <thead>\n",
       "    <tr style=\"text-align: right;\">\n",
       "      <th></th>\n",
       "      <th>Id</th>\n",
       "      <th>MSSubClass</th>\n",
       "      <th>MSZoning</th>\n",
       "      <th>LotFrontage</th>\n",
       "      <th>LotArea</th>\n",
       "      <th>Street</th>\n",
       "      <th>Alley</th>\n",
       "      <th>LotShape</th>\n",
       "      <th>LandContour</th>\n",
       "      <th>Utilities</th>\n",
       "      <th>...</th>\n",
       "      <th>PoolArea</th>\n",
       "      <th>PoolQC</th>\n",
       "      <th>Fence</th>\n",
       "      <th>MiscFeature</th>\n",
       "      <th>MiscVal</th>\n",
       "      <th>MoSold</th>\n",
       "      <th>YrSold</th>\n",
       "      <th>SaleType</th>\n",
       "      <th>SaleCondition</th>\n",
       "      <th>SalePrice</th>\n",
       "    </tr>\n",
       "  </thead>\n",
       "  <tbody>\n",
       "    <tr>\n",
       "      <th>0</th>\n",
       "      <td>1</td>\n",
       "      <td>60</td>\n",
       "      <td>RL</td>\n",
       "      <td>65.0</td>\n",
       "      <td>8450</td>\n",
       "      <td>Pave</td>\n",
       "      <td>NaN</td>\n",
       "      <td>Reg</td>\n",
       "      <td>Lvl</td>\n",
       "      <td>AllPub</td>\n",
       "      <td>...</td>\n",
       "      <td>0</td>\n",
       "      <td>NaN</td>\n",
       "      <td>NaN</td>\n",
       "      <td>NaN</td>\n",
       "      <td>0</td>\n",
       "      <td>2</td>\n",
       "      <td>2008</td>\n",
       "      <td>WD</td>\n",
       "      <td>Normal</td>\n",
       "      <td>208500</td>\n",
       "    </tr>\n",
       "    <tr>\n",
       "      <th>1</th>\n",
       "      <td>2</td>\n",
       "      <td>20</td>\n",
       "      <td>RL</td>\n",
       "      <td>80.0</td>\n",
       "      <td>9600</td>\n",
       "      <td>Pave</td>\n",
       "      <td>NaN</td>\n",
       "      <td>Reg</td>\n",
       "      <td>Lvl</td>\n",
       "      <td>AllPub</td>\n",
       "      <td>...</td>\n",
       "      <td>0</td>\n",
       "      <td>NaN</td>\n",
       "      <td>NaN</td>\n",
       "      <td>NaN</td>\n",
       "      <td>0</td>\n",
       "      <td>5</td>\n",
       "      <td>2007</td>\n",
       "      <td>WD</td>\n",
       "      <td>Normal</td>\n",
       "      <td>181500</td>\n",
       "    </tr>\n",
       "    <tr>\n",
       "      <th>2</th>\n",
       "      <td>3</td>\n",
       "      <td>60</td>\n",
       "      <td>RL</td>\n",
       "      <td>68.0</td>\n",
       "      <td>11250</td>\n",
       "      <td>Pave</td>\n",
       "      <td>NaN</td>\n",
       "      <td>IR1</td>\n",
       "      <td>Lvl</td>\n",
       "      <td>AllPub</td>\n",
       "      <td>...</td>\n",
       "      <td>0</td>\n",
       "      <td>NaN</td>\n",
       "      <td>NaN</td>\n",
       "      <td>NaN</td>\n",
       "      <td>0</td>\n",
       "      <td>9</td>\n",
       "      <td>2008</td>\n",
       "      <td>WD</td>\n",
       "      <td>Normal</td>\n",
       "      <td>223500</td>\n",
       "    </tr>\n",
       "    <tr>\n",
       "      <th>3</th>\n",
       "      <td>4</td>\n",
       "      <td>70</td>\n",
       "      <td>RL</td>\n",
       "      <td>60.0</td>\n",
       "      <td>9550</td>\n",
       "      <td>Pave</td>\n",
       "      <td>NaN</td>\n",
       "      <td>IR1</td>\n",
       "      <td>Lvl</td>\n",
       "      <td>AllPub</td>\n",
       "      <td>...</td>\n",
       "      <td>0</td>\n",
       "      <td>NaN</td>\n",
       "      <td>NaN</td>\n",
       "      <td>NaN</td>\n",
       "      <td>0</td>\n",
       "      <td>2</td>\n",
       "      <td>2006</td>\n",
       "      <td>WD</td>\n",
       "      <td>Abnorml</td>\n",
       "      <td>140000</td>\n",
       "    </tr>\n",
       "    <tr>\n",
       "      <th>4</th>\n",
       "      <td>5</td>\n",
       "      <td>60</td>\n",
       "      <td>RL</td>\n",
       "      <td>84.0</td>\n",
       "      <td>14260</td>\n",
       "      <td>Pave</td>\n",
       "      <td>NaN</td>\n",
       "      <td>IR1</td>\n",
       "      <td>Lvl</td>\n",
       "      <td>AllPub</td>\n",
       "      <td>...</td>\n",
       "      <td>0</td>\n",
       "      <td>NaN</td>\n",
       "      <td>NaN</td>\n",
       "      <td>NaN</td>\n",
       "      <td>0</td>\n",
       "      <td>12</td>\n",
       "      <td>2008</td>\n",
       "      <td>WD</td>\n",
       "      <td>Normal</td>\n",
       "      <td>250000</td>\n",
       "    </tr>\n",
       "  </tbody>\n",
       "</table>\n",
       "<p>5 rows × 81 columns</p>\n",
       "</div>"
      ],
      "text/plain": [
       "   Id  MSSubClass MSZoning  LotFrontage  LotArea Street Alley LotShape  \\\n",
       "0   1          60       RL         65.0     8450   Pave   NaN      Reg   \n",
       "1   2          20       RL         80.0     9600   Pave   NaN      Reg   \n",
       "2   3          60       RL         68.0    11250   Pave   NaN      IR1   \n",
       "3   4          70       RL         60.0     9550   Pave   NaN      IR1   \n",
       "4   5          60       RL         84.0    14260   Pave   NaN      IR1   \n",
       "\n",
       "  LandContour Utilities  ... PoolArea PoolQC Fence MiscFeature MiscVal MoSold  \\\n",
       "0         Lvl    AllPub  ...        0    NaN   NaN         NaN       0      2   \n",
       "1         Lvl    AllPub  ...        0    NaN   NaN         NaN       0      5   \n",
       "2         Lvl    AllPub  ...        0    NaN   NaN         NaN       0      9   \n",
       "3         Lvl    AllPub  ...        0    NaN   NaN         NaN       0      2   \n",
       "4         Lvl    AllPub  ...        0    NaN   NaN         NaN       0     12   \n",
       "\n",
       "  YrSold  SaleType  SaleCondition  SalePrice  \n",
       "0   2008        WD         Normal     208500  \n",
       "1   2007        WD         Normal     181500  \n",
       "2   2008        WD         Normal     223500  \n",
       "3   2006        WD        Abnorml     140000  \n",
       "4   2008        WD         Normal     250000  \n",
       "\n",
       "[5 rows x 81 columns]"
      ]
     },
     "execution_count": 3,
     "metadata": {},
     "output_type": "execute_result"
    }
   ],
   "source": [
    "housing = pd.read_csv(\"C:\\\\Users\\\\Administrator\\OneDrive\\Documents\\I am paving my way to a data job\\Week 7/train.csv\")\n",
    "housing.head(5)"
   ]
  },
  {
   "cell_type": "markdown",
   "id": "e6bb01c2",
   "metadata": {},
   "source": [
    "**1. Pemusatan & penyebaran harga rumah**"
   ]
  },
  {
   "cell_type": "code",
   "execution_count": 4,
   "id": "70187236",
   "metadata": {},
   "outputs": [
    {
     "data": {
      "text/plain": [
       "count      1460.000000\n",
       "mean     180921.195890\n",
       "std       79442.502883\n",
       "min       34900.000000\n",
       "25%      129975.000000\n",
       "50%      163000.000000\n",
       "75%      214000.000000\n",
       "max      755000.000000\n",
       "Name: SalePrice, dtype: float64"
      ]
     },
     "execution_count": 4,
     "metadata": {},
     "output_type": "execute_result"
    }
   ],
   "source": [
    "housing['SalePrice'].describe()"
   ]
  },
  {
   "cell_type": "markdown",
   "id": "0c9b787f",
   "metadata": {},
   "source": [
    "Berdasarkan survei terhadap 1460 rumah, ditemukan bahwa harga rumah bervariasi dari USD 34,900-755,000. Dalam persebaran harga rumah yang berat ke kiri (negatively skewed), terlihat bahwa 75% rumah terjual/dinilai dengan harga USD 214,000 atau lebih rendah; hanya sedikit yang terjual dengan harga maksimal USD 755,000. Rata-rata rumah dihargai di angka USD 180,921 +_ 79,442."
   ]
  },
  {
   "cell_type": "markdown",
   "id": "32176560",
   "metadata": {},
   "source": [
    "**2. Pemusatan & penyebaran harga rumah per tahun**"
   ]
  },
  {
   "cell_type": "code",
   "execution_count": 64,
   "id": "9fd11842",
   "metadata": {},
   "outputs": [],
   "source": [
    "def q1(housing):\n",
    "    return housing.quantile(0.25)\n",
    "\n",
    "def q3(housing):\n",
    "    return housing.quantile(0.75)"
   ]
  },
  {
   "cell_type": "code",
   "execution_count": 6,
   "id": "9077cf38",
   "metadata": {},
   "outputs": [
    {
     "data": {
      "text/html": [
       "<div>\n",
       "<style scoped>\n",
       "    .dataframe tbody tr th:only-of-type {\n",
       "        vertical-align: middle;\n",
       "    }\n",
       "\n",
       "    .dataframe tbody tr th {\n",
       "        vertical-align: top;\n",
       "    }\n",
       "\n",
       "    .dataframe thead tr th {\n",
       "        text-align: left;\n",
       "    }\n",
       "</style>\n",
       "<table border=\"1\" class=\"dataframe\">\n",
       "  <thead>\n",
       "    <tr>\n",
       "      <th></th>\n",
       "      <th>YrSold</th>\n",
       "      <th colspan=\"5\" halign=\"left\">SalePrice</th>\n",
       "    </tr>\n",
       "    <tr>\n",
       "      <th></th>\n",
       "      <th></th>\n",
       "      <th>mean</th>\n",
       "      <th>median</th>\n",
       "      <th>q1</th>\n",
       "      <th>q3</th>\n",
       "      <th>std</th>\n",
       "    </tr>\n",
       "  </thead>\n",
       "  <tbody>\n",
       "    <tr>\n",
       "      <th>0</th>\n",
       "      <td>2006</td>\n",
       "      <td>182549.458599</td>\n",
       "      <td>163995.0</td>\n",
       "      <td>131375.0</td>\n",
       "      <td>218782.5</td>\n",
       "      <td>79426.838855</td>\n",
       "    </tr>\n",
       "    <tr>\n",
       "      <th>1</th>\n",
       "      <td>2007</td>\n",
       "      <td>186063.151976</td>\n",
       "      <td>167000.0</td>\n",
       "      <td>129900.0</td>\n",
       "      <td>219500.0</td>\n",
       "      <td>85768.171410</td>\n",
       "    </tr>\n",
       "    <tr>\n",
       "      <th>2</th>\n",
       "      <td>2008</td>\n",
       "      <td>177360.838816</td>\n",
       "      <td>164000.0</td>\n",
       "      <td>131250.0</td>\n",
       "      <td>207000.0</td>\n",
       "      <td>69735.610685</td>\n",
       "    </tr>\n",
       "    <tr>\n",
       "      <th>3</th>\n",
       "      <td>2009</td>\n",
       "      <td>179432.103550</td>\n",
       "      <td>162000.0</td>\n",
       "      <td>125250.0</td>\n",
       "      <td>212750.0</td>\n",
       "      <td>80879.237311</td>\n",
       "    </tr>\n",
       "    <tr>\n",
       "      <th>4</th>\n",
       "      <td>2010</td>\n",
       "      <td>177393.674286</td>\n",
       "      <td>155000.0</td>\n",
       "      <td>128100.0</td>\n",
       "      <td>213250.0</td>\n",
       "      <td>80451.280085</td>\n",
       "    </tr>\n",
       "  </tbody>\n",
       "</table>\n",
       "</div>"
      ],
      "text/plain": [
       "  YrSold      SalePrice                                            \n",
       "                   mean    median        q1        q3           std\n",
       "0   2006  182549.458599  163995.0  131375.0  218782.5  79426.838855\n",
       "1   2007  186063.151976  167000.0  129900.0  219500.0  85768.171410\n",
       "2   2008  177360.838816  164000.0  131250.0  207000.0  69735.610685\n",
       "3   2009  179432.103550  162000.0  125250.0  212750.0  80879.237311\n",
       "4   2010  177393.674286  155000.0  128100.0  213250.0  80451.280085"
      ]
     },
     "execution_count": 6,
     "metadata": {},
     "output_type": "execute_result"
    }
   ],
   "source": [
    "aggregate = {'SalePrice' : ['mean', 'median', q1, q3, 'std']}\n",
    "\n",
    "summary = housing.groupby('YrSold').agg(aggregate).reset_index()\n",
    "summary"
   ]
  },
  {
   "cell_type": "markdown",
   "id": "31fb2d32",
   "metadata": {},
   "source": [
    "Harga rumah bersifat fluktuatif, dengan nilai tertinggi di tahun 2007 (avg: USD 186,063 +_ 85,768) dan terendah di tahun setelahnya (avg: USD 177,360 +_ 69,735). 75% rumah yang terdata dihargai sampai USD 200,000-220,000 dan tidak banyak yang mencapai harga di atas rata-rata per tahun."
   ]
  },
  {
   "cell_type": "markdown",
   "id": "5961027a",
   "metadata": {},
   "source": [
    "**3. Tren harga rumah**"
   ]
  },
  {
   "cell_type": "code",
   "execution_count": 61,
   "id": "23c54327",
   "metadata": {},
   "outputs": [
    {
     "data": {
      "image/png": "[encoded data removed]",
      "text/plain": [
       "<Figure size 640x480 with 5 Axes>"
      ]
     },
     "metadata": {},
     "output_type": "display_data"
    }
   ],
   "source": [
    "ax = housing.plot.hist(column = ['SalePrice'], by='YrSold')\n",
    "pt.tight_layout()"
   ]
  },
  {
   "cell_type": "markdown",
   "id": "d4025468",
   "metadata": {},
   "source": [
    "Dalam tahun 2006-2010, sebagian besar rumah terjual dengan harga sekitar USD 100,000-200,000. Perbedaan paling tampak pada tahun 2008 di mana sebagian besar rumah terjual dengan harga USD 125,000-200,000, harga tertinggi tidak sampai USD 450,000, dan terdapat jumlah signifikan dari rumah yang terjual di bawah USD 50,000."
   ]
  },
  {
   "cell_type": "code",
   "execution_count": 66,
   "id": "eaf1e980",
   "metadata": {},
   "outputs": [
    {
     "data": {
      "text/html": [
       "<div>\n",
       "<style scoped>\n",
       "    .dataframe tbody tr th:only-of-type {\n",
       "        vertical-align: middle;\n",
       "    }\n",
       "\n",
       "    .dataframe tbody tr th {\n",
       "        vertical-align: top;\n",
       "    }\n",
       "\n",
       "    .dataframe thead th {\n",
       "        text-align: right;\n",
       "    }\n",
       "</style>\n",
       "<table border=\"1\" class=\"dataframe\">\n",
       "  <thead>\n",
       "    <tr style=\"text-align: right;\">\n",
       "      <th></th>\n",
       "      <th>Year</th>\n",
       "      <th>Mean</th>\n",
       "      <th>Median</th>\n",
       "      <th>Q1</th>\n",
       "      <th>Q3</th>\n",
       "    </tr>\n",
       "  </thead>\n",
       "  <tbody>\n",
       "    <tr>\n",
       "      <th>0</th>\n",
       "      <td>2006</td>\n",
       "      <td>182549.458599</td>\n",
       "      <td>163995.0</td>\n",
       "      <td>131375.0</td>\n",
       "      <td>218782.5</td>\n",
       "    </tr>\n",
       "    <tr>\n",
       "      <th>1</th>\n",
       "      <td>2007</td>\n",
       "      <td>186063.151976</td>\n",
       "      <td>167000.0</td>\n",
       "      <td>129900.0</td>\n",
       "      <td>219500.0</td>\n",
       "    </tr>\n",
       "    <tr>\n",
       "      <th>2</th>\n",
       "      <td>2008</td>\n",
       "      <td>177360.838816</td>\n",
       "      <td>164000.0</td>\n",
       "      <td>131250.0</td>\n",
       "      <td>207000.0</td>\n",
       "    </tr>\n",
       "    <tr>\n",
       "      <th>3</th>\n",
       "      <td>2009</td>\n",
       "      <td>179432.103550</td>\n",
       "      <td>162000.0</td>\n",
       "      <td>125250.0</td>\n",
       "      <td>212750.0</td>\n",
       "    </tr>\n",
       "    <tr>\n",
       "      <th>4</th>\n",
       "      <td>2010</td>\n",
       "      <td>177393.674286</td>\n",
       "      <td>155000.0</td>\n",
       "      <td>128100.0</td>\n",
       "      <td>213250.0</td>\n",
       "    </tr>\n",
       "  </tbody>\n",
       "</table>\n",
       "</div>"
      ],
      "text/plain": [
       "   Year           Mean    Median        Q1        Q3\n",
       "0  2006  182549.458599  163995.0  131375.0  218782.5\n",
       "1  2007  186063.151976  167000.0  129900.0  219500.0\n",
       "2  2008  177360.838816  164000.0  131250.0  207000.0\n",
       "3  2009  179432.103550  162000.0  125250.0  212750.0\n",
       "4  2010  177393.674286  155000.0  128100.0  213250.0"
      ]
     },
     "execution_count": 66,
     "metadata": {},
     "output_type": "execute_result"
    }
   ],
   "source": [
    "data_mean = housing.groupby('YrSold').agg({'SalePrice' : ['mean', 'median', q1, q3]}).reset_index()\n",
    "data_mean.columns = ['Year', 'Mean', 'Median', 'Q1', 'Q3']\n",
    "data_mean"
   ]
  },
  {
   "cell_type": "code",
   "execution_count": 28,
   "id": "58ef2d48",
   "metadata": {},
   "outputs": [
    {
     "data": {
      "image/png": "[encoded data removed]",
      "text/plain": [
       "<Figure size 640x480 with 1 Axes>"
      ]
     },
     "metadata": {},
     "output_type": "display_data"
    }
   ],
   "source": [
    "pt.plot(data_mean['Year'], data_mean['Mean'], label = 'mean price')\n",
    "pt.plot(data_mean['Year'], data_mean['Median'], label = 'median price')\n",
    "pt.legend()\n",
    "pt.show()"
   ]
  },
  {
   "cell_type": "markdown",
   "id": "71a5d3a9",
   "metadata": {},
   "source": [
    "Secara teori, median lebih sesuai untuk analisis pola data mengingat distribusi data yang berat ke kiri. Akan tetapi, perubahan harga rumah per tahun secara luas lebih terepresentasi dalam grafik rataan, sehingga dalam situasi ini nilai rata-rata lebih cocok ditampilkan. "
   ]
  },
  {
   "cell_type": "markdown",
   "id": "234dc800",
   "metadata": {},
   "source": [
    "**4. Uji hipotesis**\n",
    "\n",
    "H0: harga rumah tidak naik setiap tahun | H1: harga rumah naik setiap tahun"
   ]
  },
  {
   "cell_type": "code",
   "execution_count": 69,
   "id": "0c483f21",
   "metadata": {},
   "outputs": [
    {
     "data": {
      "text/html": [
       "<div>\n",
       "<style scoped>\n",
       "    .dataframe tbody tr th:only-of-type {\n",
       "        vertical-align: middle;\n",
       "    }\n",
       "\n",
       "    .dataframe tbody tr th {\n",
       "        vertical-align: top;\n",
       "    }\n",
       "\n",
       "    .dataframe thead tr th {\n",
       "        text-align: left;\n",
       "    }\n",
       "</style>\n",
       "<table border=\"1\" class=\"dataframe\">\n",
       "  <thead>\n",
       "    <tr>\n",
       "      <th></th>\n",
       "      <th>YrSold</th>\n",
       "      <th>SalePrice</th>\n",
       "    </tr>\n",
       "    <tr>\n",
       "      <th></th>\n",
       "      <th></th>\n",
       "      <th>mean</th>\n",
       "    </tr>\n",
       "  </thead>\n",
       "  <tbody>\n",
       "    <tr>\n",
       "      <th>0</th>\n",
       "      <td>2006</td>\n",
       "      <td>182549.458599</td>\n",
       "    </tr>\n",
       "    <tr>\n",
       "      <th>1</th>\n",
       "      <td>2007</td>\n",
       "      <td>186063.151976</td>\n",
       "    </tr>\n",
       "    <tr>\n",
       "      <th>2</th>\n",
       "      <td>2008</td>\n",
       "      <td>177360.838816</td>\n",
       "    </tr>\n",
       "    <tr>\n",
       "      <th>3</th>\n",
       "      <td>2009</td>\n",
       "      <td>179432.103550</td>\n",
       "    </tr>\n",
       "    <tr>\n",
       "      <th>4</th>\n",
       "      <td>2010</td>\n",
       "      <td>177393.674286</td>\n",
       "    </tr>\n",
       "  </tbody>\n",
       "</table>\n",
       "</div>"
      ],
      "text/plain": [
       "  YrSold      SalePrice\n",
       "                   mean\n",
       "0   2006  182549.458599\n",
       "1   2007  186063.151976\n",
       "2   2008  177360.838816\n",
       "3   2009  179432.103550\n",
       "4   2010  177393.674286"
      ]
     },
     "execution_count": 69,
     "metadata": {},
     "output_type": "execute_result"
    }
   ],
   "source": [
    "data_mean = housing.groupby('YrSold').agg({'SalePrice':['mean']}).reset_index()\n",
    "data_mean"
   ]
  },
  {
   "cell_type": "markdown",
   "id": "042e8500",
   "metadata": {},
   "source": [
    "Dinilai dari rata-rata saja, harga rumah belum tentu naik setiap tahun. Untuk data kontinu dengan distribusi non-normal seperti dataset housing ini, statistical significance dari kenaikan harga akan diuji dengan one-way ANOVA."
   ]
  },
  {
   "cell_type": "code",
   "execution_count": 70,
   "id": "160720b5",
   "metadata": {},
   "outputs": [
    {
     "name": "stdout",
     "output_type": "stream",
     "text": [
      "P-Value: 0.6300887663573457\n"
     ]
    }
   ],
   "source": [
    "yr6 = housing[housing['YrSold'] == 2006]\n",
    "yr7 = housing[housing['YrSold'] == 2007]\n",
    "yr8 = housing[housing['YrSold'] == 2008]\n",
    "yr9 = housing[housing['YrSold'] == 2009]\n",
    "yr10 = housing[housing['YrSold'] == 2010]\n",
    "ftest = st.f_oneway(yr6['SalePrice'], yr7['SalePrice'], yr8['SalePrice'], yr9['SalePrice'], yr10['SalePrice'])\n",
    "\n",
    "p_value = ftest.pvalue\n",
    "alpha = 0.05\n",
    "print('P-Value:', p_value)"
   ]
  },
  {
   "cell_type": "markdown",
   "id": "18d2e8ec",
   "metadata": {},
   "source": [
    "Dengan p-value > alpha, dapat disimpulkan bahwa harga rumah relatif stabil dari tahun ke tahun (H0 diterima)."
   ]
  },
  {
   "cell_type": "markdown",
   "id": "3d99f29e",
   "metadata": {},
   "source": [
    "**5. A/B testing**"
   ]
  },
  {
   "cell_type": "markdown",
   "id": "1c45d528",
   "metadata": {},
   "source": [
    "Nama eksperimen: AB Testing Signifikansi Campaign pada Minat Pembukaan Deposito"
   ]
  },
  {
   "cell_type": "markdown",
   "id": "4761338d",
   "metadata": {},
   "source": [
    "H0: Jumlah campaign tidak memengaruhi keinginan nasabah membuka rekening deposito\n",
    "<br>\n",
    "H1: Jumlah campaign memengaruhi keinginan nasabah membuka rekening deposito\n",
    "<br>\n",
    "<br>\n",
    "Variabel: jumlah campaign yang dikeluarkan\n",
    "<br>\n",
    "Metric utama: jumlah pembukaan rekening depo"
   ]
  },
  {
   "cell_type": "code",
   "execution_count": 22,
   "id": "837ee900",
   "metadata": {},
   "outputs": [],
   "source": [
    "bank = pd.read_csv(\"C:\\\\Users\\Administrator\\\\OneDrive\\Documents\\I am paving my way to a data job\\Week 7/bank-full.csv\", engine = 'python', sep=None)\n",
    "\n",
    "open_depo_acc = bank[bank['y'] == 'yes']\n",
    "no_depo_acc = bank[bank['y'] == 'no']"
   ]
  },
  {
   "cell_type": "code",
   "execution_count": 49,
   "id": "878bd274",
   "metadata": {},
   "outputs": [
    {
     "name": "stdout",
     "output_type": "stream",
     "text": [
      "Minimal jumlah sampel/grup:  400\n"
     ]
    }
   ],
   "source": [
    "import math\n",
    "N = bank.shape[0]\n",
    "e = 0.05\n",
    "slovin = N/(1+N*e**2)\n",
    "samplesize = int(round(slovin, -1))\n",
    "print('Minimal jumlah sampel/grup: ', samplesize)"
   ]
  },
  {
   "cell_type": "code",
   "execution_count": 50,
   "id": "cd8cd5a7",
   "metadata": {},
   "outputs": [
    {
     "data": {
      "text/plain": [
       "yes    400\n",
       "no     400\n",
       "Name: y, dtype: int64"
      ]
     },
     "execution_count": 50,
     "metadata": {},
     "output_type": "execute_result"
    }
   ],
   "source": [
    "#append 2 sample sizes\n",
    "open_depo_sample = open_depo_acc.sample(n=samplesize, random_state=22)\n",
    "no_depo_sample = no_depo_acc.sample(n=samplesize, random_state=22)\n",
    "\n",
    "testdata = pd.concat([open_depo_sample, no_depo_sample], axis=0).reset_index(drop=True)\n",
    "testdata['y'].value_counts()"
   ]
  },
  {
   "cell_type": "code",
   "execution_count": 78,
   "id": "85f02a18",
   "metadata": {},
   "outputs": [
    {
     "data": {
      "text/html": [
       "<div>\n",
       "<style scoped>\n",
       "    .dataframe tbody tr th:only-of-type {\n",
       "        vertical-align: middle;\n",
       "    }\n",
       "\n",
       "    .dataframe tbody tr th {\n",
       "        vertical-align: top;\n",
       "    }\n",
       "\n",
       "    .dataframe thead th {\n",
       "        text-align: right;\n",
       "    }\n",
       "</style>\n",
       "<table border=\"1\" class=\"dataframe\">\n",
       "  <thead>\n",
       "    <tr style=\"text-align: right;\">\n",
       "      <th></th>\n",
       "      <th>deposit acc</th>\n",
       "      <th>campaign_sum</th>\n",
       "      <th>campaign_per_ppl</th>\n",
       "    </tr>\n",
       "  </thead>\n",
       "  <tbody>\n",
       "    <tr>\n",
       "      <th>0</th>\n",
       "      <td>no</td>\n",
       "      <td>1114</td>\n",
       "      <td>2.7850</td>\n",
       "    </tr>\n",
       "    <tr>\n",
       "      <th>1</th>\n",
       "      <td>yes</td>\n",
       "      <td>795</td>\n",
       "      <td>1.9875</td>\n",
       "    </tr>\n",
       "  </tbody>\n",
       "</table>\n",
       "</div>"
      ],
      "text/plain": [
       "  deposit acc  campaign_sum  campaign_per_ppl\n",
       "0          no          1114            2.7850\n",
       "1         yes           795            1.9875"
      ]
     },
     "execution_count": 78,
     "metadata": {},
     "output_type": "execute_result"
    }
   ],
   "source": [
    "depo = testdata.groupby('y').agg({'campaign':['sum', 'mean']}).reset_index()\n",
    "depo.columns = ['deposit acc', 'campaign_sum', 'campaign_per_ppl']\n",
    "depo"
   ]
  },
  {
   "cell_type": "markdown",
   "id": "5373f5a8",
   "metadata": {},
   "source": [
    "Dari angka saja, terlihat bahwa kelompok yang memutuskan membuka rekening deposito menerima lebih sedikit campaign per orang. Akan tetapi signifikansi jumlah campaign perlu dibuktikan lebih lanjut dengan uji statistik menggunakan independent samples T-test."
   ]
  },
  {
   "cell_type": "code",
   "execution_count": 90,
   "id": "551806c6",
   "metadata": {},
   "outputs": [
    {
     "data": {
      "text/plain": [
       "Ttest_indResult(statistic=-15.599948860003783, pvalue=1.0123473642096295e-54)"
      ]
     },
     "execution_count": 90,
     "metadata": {},
     "output_type": "execute_result"
    }
   ],
   "source": [
    "import statsmodels.stats.proportion as sp\n",
    "import scipy as scipy\n",
    "from scipy.stats import ttest_ind\n",
    "\n",
    "ttest_ind(open_depo_sample['campaign'], no_depo_sample['campaign'])"
   ]
  },
  {
   "cell_type": "markdown",
   "id": "678fdcf2",
   "metadata": {},
   "source": [
    "Dengan nilai p-value > 0.05, dapat disimpulkan bahwa jumlah campaign tidak memiliki pengaruh signifikan pada keputusan nasabah membuka rekening deposito."
   ]
  }
 ],
 "metadata": {
  "kernelspec": {
   "display_name": "Python 3 (ipykernel)",
   "language": "python",
   "name": "python3"
  },
  "language_info": {
   "codemirror_mode": {
    "name": "ipython",
    "version": 3
   },
   "file_extension": ".py",
   "mimetype": "text/x-python",
   "name": "python",
   "nbconvert_exporter": "python",
   "pygments_lexer": "ipython3",
   "version": "3.9.13"
  }
 },
 "nbformat": 4,
 "nbformat_minor": 5
}
